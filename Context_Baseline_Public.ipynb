{
  "cells": [
    {
      "cell_type": "markdown",
      "metadata": {
        "id": "view-in-github",
        "colab_type": "text"
      },
      "source": [
        "<a href=\"https://colab.research.google.com/github/BaskovKonstantin/some_collab/blob/main/Context_Baseline_Public.ipynb\" target=\"_parent\"><img src=\"https://colab.research.google.com/assets/colab-badge.svg\" alt=\"Open In Colab\"/></a>"
      ]
    },
    {
      "cell_type": "code",
      "execution_count": null,
      "id": "28740129",
      "metadata": {
        "id": "28740129"
      },
      "outputs": [],
      "source": [
        "import sys\n",
        "import os\n",
        "import warnings\n",
        "os.environ['OPENBLAS_NUM_THREADS'] = '1'\n",
        "warnings.filterwarnings('ignore')"
      ]
    },
    {
      "cell_type": "code",
      "source": [
        "# !pip install implicit\n",
        "# !pip install catboost\n"
      ],
      "metadata": {
        "id": "AA3refIub2yC"
      },
      "id": "AA3refIub2yC",
      "execution_count": null,
      "outputs": []
    },
    {
      "cell_type": "code",
      "execution_count": null,
      "id": "b907cd02",
      "metadata": {
        "id": "b907cd02"
      },
      "outputs": [],
      "source": [
        "import pandas as pd\n",
        "import numpy as np\n",
        "import time\n",
        "import pyarrow.parquet as pq\n",
        "import scipy\n",
        "import implicit\n",
        "import bisect\n",
        "import sklearn.metrics as m\n",
        "from catboost import CatBoostClassifier, CatBoostRegressor, Pool\n",
        "from sklearn.model_selection import train_test_split\n",
        "from sklearn.calibration import calibration_curve, CalibratedClassifierCV"
      ]
    },
    {
      "cell_type": "code",
      "execution_count": null,
      "id": "e762eacd",
      "metadata": {
        "id": "e762eacd"
      },
      "outputs": [],
      "source": [
        "LOCAL_DATA_PATH = ''\n",
        "SPLIT_SEED = 42\n",
        "DATA_FILE = 'competition_data_final_pqt'\n",
        "TARGET_FILE = 'public_train.pqt'\n",
        "SUBMISSION_FILE = 'submit.pqt'"
      ]
    },
    {
      "cell_type": "code",
      "execution_count": null,
      "id": "8c1af0db",
      "metadata": {
        "id": "8c1af0db"
      },
      "outputs": [],
      "source": [
        "id_to_submit = pq.read_table(f'{SUBMISSION_FILE}').to_pandas()"
      ]
    },
    {
      "cell_type": "code",
      "execution_count": null,
      "id": "335226b7",
      "metadata": {
        "id": "335226b7"
      },
      "outputs": [],
      "source": [
        "data = pq.read_table(f'{DATA_FILE}')\n",
        "pd.DataFrame([(z.name, z.type) for z in data.schema], columns = [['field', 'type']])"
      ]
    },
    {
      "cell_type": "markdown",
      "id": "dc1e0c72",
      "metadata": {
        "id": "dc1e0c72"
      },
      "source": [
        "Регион   \n",
        ", населенный пункт   \n",
        ", производиель устройства   \n",
        ", модель устроства   \n",
        ", домен, с которого пришел рекламный запрос   \n",
        ", тип устройства (смартфон или что-то другое)   \n",
        ", операционка на устройстве   \n",
        ", оценка цены устройства   \n",
        ", дата   \n",
        ", время дня (утро, вечер ...)   \n",
        ", число запросов   \n",
        ", id пользователя   "
      ]
    },
    {
      "cell_type": "code",
      "execution_count": null,
      "id": "bb8abea4",
      "metadata": {
        "id": "bb8abea4",
        "colab": {
          "base_uri": "https://localhost:8080/"
        },
        "outputId": "5fb26592-f126-4b98-8cec-411b097211fd"
      },
      "outputs": [
        {
          "output_type": "execute_result",
          "data": {
            "text/plain": [
              "smartphone    32630468\n",
              "plain             3995\n",
              "tablet            3204\n",
              "phablet           1042\n",
              "Name: cpe_type_cd, dtype: int64"
            ]
          },
          "metadata": {},
          "execution_count": 15
        }
      ],
      "source": [
        "data.select(['cpe_type_cd']).to_pandas()['cpe_type_cd'].value_counts()"
      ]
    },
    {
      "cell_type": "code",
      "execution_count": null,
      "id": "3ff50f46",
      "metadata": {
        "id": "3ff50f46",
        "colab": {
          "base_uri": "https://localhost:8080/",
          "height": 175
        },
        "outputId": "adfda504-de1c-4ada-da89-b7eab8b15d27"
      },
      "outputs": [
        {
          "output_type": "execute_result",
          "data": {
            "text/plain": [
              "               field    type\n",
              "0                age  double\n",
              "1            is_male  string\n",
              "2            user_id   int64\n",
              "3  __index_level_0__   int64"
            ],
            "text/html": [
              "\n",
              "  <div id=\"df-bf227b63-fd5e-4195-b1b7-92470429ae6c\">\n",
              "    <div class=\"colab-df-container\">\n",
              "      <div>\n",
              "<style scoped>\n",
              "    .dataframe tbody tr th:only-of-type {\n",
              "        vertical-align: middle;\n",
              "    }\n",
              "\n",
              "    .dataframe tbody tr th {\n",
              "        vertical-align: top;\n",
              "    }\n",
              "\n",
              "    .dataframe thead tr th {\n",
              "        text-align: left;\n",
              "    }\n",
              "</style>\n",
              "<table border=\"1\" class=\"dataframe\">\n",
              "  <thead>\n",
              "    <tr>\n",
              "      <th></th>\n",
              "      <th>field</th>\n",
              "      <th>type</th>\n",
              "    </tr>\n",
              "  </thead>\n",
              "  <tbody>\n",
              "    <tr>\n",
              "      <th>0</th>\n",
              "      <td>age</td>\n",
              "      <td>double</td>\n",
              "    </tr>\n",
              "    <tr>\n",
              "      <th>1</th>\n",
              "      <td>is_male</td>\n",
              "      <td>string</td>\n",
              "    </tr>\n",
              "    <tr>\n",
              "      <th>2</th>\n",
              "      <td>user_id</td>\n",
              "      <td>int64</td>\n",
              "    </tr>\n",
              "    <tr>\n",
              "      <th>3</th>\n",
              "      <td>__index_level_0__</td>\n",
              "      <td>int64</td>\n",
              "    </tr>\n",
              "  </tbody>\n",
              "</table>\n",
              "</div>\n",
              "      <button class=\"colab-df-convert\" onclick=\"convertToInteractive('df-bf227b63-fd5e-4195-b1b7-92470429ae6c')\"\n",
              "              title=\"Convert this dataframe to an interactive table.\"\n",
              "              style=\"display:none;\">\n",
              "        \n",
              "  <svg xmlns=\"http://www.w3.org/2000/svg\" height=\"24px\"viewBox=\"0 0 24 24\"\n",
              "       width=\"24px\">\n",
              "    <path d=\"M0 0h24v24H0V0z\" fill=\"none\"/>\n",
              "    <path d=\"M18.56 5.44l.94 2.06.94-2.06 2.06-.94-2.06-.94-.94-2.06-.94 2.06-2.06.94zm-11 1L8.5 8.5l.94-2.06 2.06-.94-2.06-.94L8.5 2.5l-.94 2.06-2.06.94zm10 10l.94 2.06.94-2.06 2.06-.94-2.06-.94-.94-2.06-.94 2.06-2.06.94z\"/><path d=\"M17.41 7.96l-1.37-1.37c-.4-.4-.92-.59-1.43-.59-.52 0-1.04.2-1.43.59L10.3 9.45l-7.72 7.72c-.78.78-.78 2.05 0 2.83L4 21.41c.39.39.9.59 1.41.59.51 0 1.02-.2 1.41-.59l7.78-7.78 2.81-2.81c.8-.78.8-2.07 0-2.86zM5.41 20L4 18.59l7.72-7.72 1.47 1.35L5.41 20z\"/>\n",
              "  </svg>\n",
              "      </button>\n",
              "      \n",
              "  <style>\n",
              "    .colab-df-container {\n",
              "      display:flex;\n",
              "      flex-wrap:wrap;\n",
              "      gap: 12px;\n",
              "    }\n",
              "\n",
              "    .colab-df-convert {\n",
              "      background-color: #E8F0FE;\n",
              "      border: none;\n",
              "      border-radius: 50%;\n",
              "      cursor: pointer;\n",
              "      display: none;\n",
              "      fill: #1967D2;\n",
              "      height: 32px;\n",
              "      padding: 0 0 0 0;\n",
              "      width: 32px;\n",
              "    }\n",
              "\n",
              "    .colab-df-convert:hover {\n",
              "      background-color: #E2EBFA;\n",
              "      box-shadow: 0px 1px 2px rgba(60, 64, 67, 0.3), 0px 1px 3px 1px rgba(60, 64, 67, 0.15);\n",
              "      fill: #174EA6;\n",
              "    }\n",
              "\n",
              "    [theme=dark] .colab-df-convert {\n",
              "      background-color: #3B4455;\n",
              "      fill: #D2E3FC;\n",
              "    }\n",
              "\n",
              "    [theme=dark] .colab-df-convert:hover {\n",
              "      background-color: #434B5C;\n",
              "      box-shadow: 0px 1px 3px 1px rgba(0, 0, 0, 0.15);\n",
              "      filter: drop-shadow(0px 1px 2px rgba(0, 0, 0, 0.3));\n",
              "      fill: #FFFFFF;\n",
              "    }\n",
              "  </style>\n",
              "\n",
              "      <script>\n",
              "        const buttonEl =\n",
              "          document.querySelector('#df-bf227b63-fd5e-4195-b1b7-92470429ae6c button.colab-df-convert');\n",
              "        buttonEl.style.display =\n",
              "          google.colab.kernel.accessAllowed ? 'block' : 'none';\n",
              "\n",
              "        async function convertToInteractive(key) {\n",
              "          const element = document.querySelector('#df-bf227b63-fd5e-4195-b1b7-92470429ae6c');\n",
              "          const dataTable =\n",
              "            await google.colab.kernel.invokeFunction('convertToInteractive',\n",
              "                                                     [key], {});\n",
              "          if (!dataTable) return;\n",
              "\n",
              "          const docLinkHtml = 'Like what you see? Visit the ' +\n",
              "            '<a target=\"_blank\" href=https://colab.research.google.com/notebooks/data_table.ipynb>data table notebook</a>'\n",
              "            + ' to learn more about interactive tables.';\n",
              "          element.innerHTML = '';\n",
              "          dataTable['output_type'] = 'display_data';\n",
              "          await google.colab.output.renderOutput(dataTable, element);\n",
              "          const docLink = document.createElement('div');\n",
              "          docLink.innerHTML = docLinkHtml;\n",
              "          element.appendChild(docLink);\n",
              "        }\n",
              "      </script>\n",
              "    </div>\n",
              "  </div>\n",
              "  "
            ]
          },
          "metadata": {},
          "execution_count": 18
        }
      ],
      "source": [
        "targets = pq.read_table(f'{TARGET_FILE}')\n",
        "pd.DataFrame([(z.name, z.type) for z in targets.schema], columns = [['field', 'type']])"
      ]
    },
    {
      "cell_type": "code",
      "execution_count": null,
      "id": "f6f543bf",
      "metadata": {
        "id": "f6f543bf",
        "colab": {
          "base_uri": "https://localhost:8080/"
        },
        "outputId": "9af60e65-689f-4d33-bd61-8d24f0cb1939"
      },
      "outputs": [
        {
          "output_type": "stream",
          "name": "stdout",
          "text": [
            "CPU times: user 4.39 s, sys: 548 ms, total: 4.94 s\n",
            "Wall time: 5.03 s\n"
          ]
        }
      ],
      "source": [
        "%%time\n",
        "data_agg = data.select(['user_id', 'url_host', 'request_cnt']).\\\n",
        "    group_by(['user_id', 'url_host']).aggregate([('request_cnt', \"sum\")])"
      ]
    },
    {
      "cell_type": "code",
      "execution_count": null,
      "id": "57c55747",
      "metadata": {
        "id": "57c55747",
        "colab": {
          "base_uri": "https://localhost:8080/"
        },
        "outputId": "4b6e5612-c6cf-4590-fbe8-357cdc4cc09e"
      },
      "outputs": [
        {
          "output_type": "stream",
          "name": "stdout",
          "text": [
            "77904 urls\n",
            "41594 users\n"
          ]
        }
      ],
      "source": [
        "url_set = set(data_agg.select(['url_host']).to_pandas()['url_host'])\n",
        "print(f'{len(url_set)} urls')\n",
        "url_dict = {url: idurl for url, idurl in zip(url_set, range(len(url_set)))}\n",
        "usr_set = set(data_agg.select(['user_id']).to_pandas()['user_id'])\n",
        "print(f'{len(usr_set)} users')\n",
        "usr_dict = {usr: user_id for usr, user_id in zip(usr_set, range(len(usr_set)))}"
      ]
    },
    {
      "cell_type": "code",
      "execution_count": null,
      "id": "5e227779",
      "metadata": {
        "id": "5e227779"
      },
      "outputs": [],
      "source": [
        "%%time\n",
        "values = np.array(data_agg.select(['request_cnt_sum']).to_pandas()['request_cnt_sum'])\n",
        "rows = np.array(data_agg.select(['user_id']).to_pandas()['user_id'].map(usr_dict))\n",
        "cols = np.array(data_agg.select(['url_host']).to_pandas()['url_host'].map(url_dict))\n",
        "mat = scipy.sparse.coo_matrix((values, (rows, cols)), shape=(rows.max() + 1, cols.max() + 1))\n",
        "als = implicit.approximate_als.FaissAlternatingLeastSquares(factors = 50, iterations = 30, use_gpu = False, \\\n",
        "       calculate_training_loss = False, regularization = 0.1)"
      ]
    },
    {
      "cell_type": "code",
      "execution_count": null,
      "id": "8cf9c775",
      "metadata": {
        "id": "8cf9c775"
      },
      "outputs": [],
      "source": [
        "%%time\n",
        "als.fit(mat)\n",
        "u_factors = als.model.user_factors \n",
        "d_factors = als.model.item_factors"
      ]
    },
    {
      "cell_type": "markdown",
      "id": "ed2944b0",
      "metadata": {
        "id": "ed2944b0"
      },
      "source": [
        "## Получим оценку по полу"
      ]
    },
    {
      "cell_type": "code",
      "execution_count": null,
      "id": "c2f7f21d",
      "metadata": {
        "scrolled": true,
        "id": "c2f7f21d"
      },
      "outputs": [],
      "source": [
        "%%time\n",
        "inv_usr_map = {v: k for k, v in usr_dict.items()}\n",
        "usr_emb = pd.DataFrame(u_factors)\n",
        "usr_emb['user_id'] = usr_emb.index.map(inv_usr_map)\n",
        "usr_targets = targets.to_pandas()\n",
        "df = usr_targets.merge(usr_emb, how = 'inner', on = ['user_id'])\n",
        "df = df[df['is_male'] != 'NA']\n",
        "df = df.dropna()\n",
        "df['is_male'] = df['is_male'].map(int)\n",
        "df['is_male'].value_counts()"
      ]
    },
    {
      "cell_type": "code",
      "execution_count": null,
      "id": "1419fb8a",
      "metadata": {
        "id": "1419fb8a"
      },
      "outputs": [],
      "source": [
        "%%time\n",
        "from sklearn.ensemble import VotingClassifier\n",
        "from sklearn.naive_bayes import GaussianNB\n",
        "from sklearn.neighbors import KNeighborsClassifier\n",
        "\n",
        "x_train, x_test, y_train, y_test = train_test_split(df.drop(['user_id', 'age', 'is_male'], axis=1), df['is_male'], test_size=0.33, random_state=SPLIT_SEED)\n",
        "\n",
        "catboost_model = CatBoostClassifier()\n",
        "naive_bayes_model = GaussianNB()\n",
        "knn_model = KNeighborsClassifier()\n",
        "\n",
        "estimators = [('catboost', catboost_model), ('naive_bayes', naive_bayes_model), ('knn', knn_model)]\n",
        "\n",
        "voting_model = VotingClassifier(estimators=estimators, voting='soft')\n",
        "\n",
        "param_grid = {\n",
        "    'catboost__learning_rate': [0.01, 0.05, 0.1, 0.15, 0.2],\n",
        "    'catboost__depth': [3, 5, 7, 10, 14],\n",
        "    'naive_bayes__var_smoothing': [1e-9, 1e-8, 1e-7, 1e-6, 1e-5],\n",
        "    'knn__n_neighbors': [3, 5, 7, 10, 14],\n",
        "}\n",
        "\n",
        "grid_search = GridSearchCV(voting_model, param_grid, cv=5)\n",
        "grid_search.fit(x_train, y_train)\n",
        "best_model = grid_search.best_estimator_\n",
        "\n",
        "print(f'GINI по полу {2 * m.roc_auc_score(y_test, best_model.predict_proba(x_test)[:, 1]) - 1:2.3f}')\n"
      ]
    },
    {
      "cell_type": "code",
      "execution_count": null,
      "id": "8ee3c4c0",
      "metadata": {
        "id": "8ee3c4c0"
      },
      "outputs": [],
      "source": [
        "best_clf.fit(df.drop(['user_id', 'age', 'is_male'], axis = 1), df['is_male'], verbose = False)\n",
        "id_to_submit['is_male'] = clf.predict_proba(id_to_submit.merge(usr_emb, how = 'inner', on = ['user_id']))[:,1]"
      ]
    },
    {
      "cell_type": "markdown",
      "id": "a3980236",
      "metadata": {
        "id": "a3980236"
      },
      "source": [
        "## Получим оценку по возрасту"
      ]
    },
    {
      "cell_type": "code",
      "execution_count": null,
      "id": "4a4f4726",
      "metadata": {
        "id": "4a4f4726"
      },
      "outputs": [],
      "source": [
        "import seaborn as sns\n",
        "import matplotlib.pyplot as plt\n",
        "import plotly.express as px\n",
        "\n",
        "%matplotlib inline\n",
        "sns.set_style('darkgrid')"
      ]
    },
    {
      "cell_type": "code",
      "execution_count": null,
      "id": "0f97ec5d",
      "metadata": {
        "id": "0f97ec5d"
      },
      "outputs": [],
      "source": [
        "def age_bucket(x):\n",
        "    return bisect.bisect_left([18,25,35,45,55,65], x)"
      ]
    },
    {
      "cell_type": "code",
      "execution_count": null,
      "id": "5d38c185",
      "metadata": {
        "id": "5d38c185"
      },
      "outputs": [],
      "source": [
        "df = usr_targets.merge(usr_emb, how = 'inner', on = ['user_id'])\n",
        "df = df[df['age'] != 'NA']\n",
        "df = df.dropna()\n",
        "df['age'] = df['age'].map(age_bucket)\n",
        "sns.histplot(df['age'], bins = 7)"
      ]
    },
    {
      "cell_type": "code",
      "execution_count": null,
      "id": "e51e16fb",
      "metadata": {
        "id": "e51e16fb"
      },
      "outputs": [],
      "source": [
        "from sklearn.ensemble import StackingClassifier\n",
        "from sklearn.model_selection import GridSearchCV\n",
        "from sklearn.svm import SVC\n",
        "from catboost import CatBoostClassifier\n",
        "\n",
        "x_train, x_test, y_train, y_test = train_test_split(df.drop(['user_id', 'age', 'is_male'], axis=1), df['age'], test_size=0.33, random_state=SPLIT_SEED)\n",
        "\n",
        "svm_model = SVC()\n",
        "catboost_model = CatBoostClassifier()\n",
        "\n",
        "estimators = [('svm', svm_model), ('catboost', catboost_model)]\n",
        "\n",
        "stacking_model = StackingClassifier(estimators=estimators, final_estimator=SVC())\n",
        "\n",
        "param_grid = {\n",
        "    'svm__C': [0.1, 1, 10, 50, 100],\n",
        "    'svm__gamma': [0.1, 1, 10, 50, 100],\n",
        "    'final_estimator__C': [0.1, 1, 10, 50, 100],\n",
        "    'final_estimator__gamma': [0.1, 1, 10, 50, 100]\n",
        "}\n",
        "\n",
        "grid_search = GridSearchCV(stacking_model, param_grid, cv=5)\n",
        "grid_search.fit(x_train, y_train)\n",
        "best_model = grid_search.best_estimator_\n",
        "\n",
        "print(m.classification_report('SVC', y_test, best_model.predict(x_test), target_names=['<18', '18-25','25-34', '35-44', '45-54', '55-65', '65+']))"
      ]
    },
    {
      "cell_type": "code",
      "execution_count": null,
      "id": "2c73661d",
      "metadata": {
        "id": "2c73661d"
      },
      "outputs": [],
      "source": [
        "best_svc.fit(df.drop(['user_id', 'age', 'is_male'], axis = 1), df['age'], verbose = False)\n",
        "id_to_submit['age'] = best_svc.predict(id_to_submit[['user_id']].merge(usr_emb, how = 'inner', on = ['user_id']))"
      ]
    },
    {
      "cell_type": "markdown",
      "id": "f55aa8ec",
      "metadata": {
        "id": "f55aa8ec"
      },
      "source": [
        "## Сабмит"
      ]
    },
    {
      "cell_type": "code",
      "execution_count": null,
      "id": "af2b6647",
      "metadata": {
        "id": "af2b6647"
      },
      "outputs": [],
      "source": [
        "id_to_submit.head()"
      ]
    },
    {
      "cell_type": "code",
      "execution_count": null,
      "id": "60024ea9",
      "metadata": {
        "id": "60024ea9"
      },
      "outputs": [],
      "source": [
        "id_to_submit.to_csv(f'{LOCAL_DATA_PATH}/submission.csv', index = False)"
      ]
    },
    {
      "cell_type": "code",
      "execution_count": null,
      "id": "a7298b7b",
      "metadata": {
        "id": "a7298b7b"
      },
      "outputs": [],
      "source": [
        "! head $LOCAL_DATA_PATH/submission.csv"
      ]
    },
    {
      "cell_type": "markdown",
      "id": "4d6a7a85",
      "metadata": {
        "id": "4d6a7a85"
      },
      "source": [
        "# Скор на лидерборде"
      ]
    },
    {
      "cell_type": "code",
      "execution_count": null,
      "id": "7164aa61",
      "metadata": {
        "id": "7164aa61"
      },
      "outputs": [],
      "source": [
        "context_scorer(submission, answers)"
      ]
    }
  ],
  "metadata": {
    "kernelspec": {
      "display_name": "horovod2",
      "language": "python",
      "name": "horovod2"
    },
    "language_info": {
      "codemirror_mode": {
        "name": "ipython",
        "version": 3
      },
      "file_extension": ".py",
      "mimetype": "text/x-python",
      "name": "python",
      "nbconvert_exporter": "python",
      "pygments_lexer": "ipython3",
      "version": "3.9.12"
    },
    "colab": {
      "provenance": [],
      "toc_visible": true,
      "include_colab_link": true
    }
  },
  "nbformat": 4,
  "nbformat_minor": 5
}