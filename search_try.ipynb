{
 "nbformat": 4,
 "nbformat_minor": 0,
 "metadata": {
  "colab": {
   "provenance": []
  },
  "kernelspec": {
   "name": "python3",
   "display_name": "Python 3"
  },
  "language_info": {
   "name": "python"
  }
 },
 "cells": [
  {
   "cell_type": "code",
   "execution_count": 1,
   "metadata": {
    "id": "oihAgKrlK0g4"
   },
   "outputs": [],
   "source": [
    "import pandas as pd\n",
    "import pyarrow.parquet as pq\n",
    "from sklearn.model_selection import GridSearchCV, train_test_split\n",
    "\n",
    "# НЕ проверял работспособность, на этапе вычисления шанса выпадения встрял, очень долго это происходило"
   ]
  },
  {
   "cell_type": "code",
   "execution_count": 2,
   "outputs": [],
   "source": [
    "LOCAL_DATA_PATH = './context_data/'\n",
    "SPLIT_SEED = 42\n",
    "DATA_FILE = 'competition_data_final_pqt'\n",
    "TARGET_FILE = 'public_train.pqt'\n",
    "SUBMISSION_FILE = 'submit_2.pqt'\n",
    "id_to_submit = pq.read_table(f'{LOCAL_DATA_PATH}/{SUBMISSION_FILE}')\n",
    "data = pq.read_table(f'{LOCAL_DATA_PATH}/{DATA_FILE}').to_pandas()"
   ],
   "metadata": {
    "collapsed": false
   }
  },
  {
   "cell_type": "code",
   "source": [
    "#Классификация возрастов\n",
    "df = pd.read_parquet(f'{LOCAL_DATA_PATH}/public_train.pqt')\n",
    "df.loc[df['age'] > 66, 'age'] = 6\n",
    "df.loc[(df['age'] > 55) & (df['age'] < 66), 'age'] = 5\n",
    "df.loc[(df['age'] > 45) & (df['age'] < 56), 'age'] = 4\n",
    "df.loc[(df['age'] > 35) & (df['age'] < 46), 'age'] = 3\n",
    "df.loc[(df['age'] > 25) & (df['age'] < 36), 'age'] = 2\n",
    "df.loc[(df['age'] > 18) & (df['age'] < 26), 'age'] = 1"
   ],
   "metadata": {
    "id": "hp7lB5hjK2C_"
   },
   "execution_count": 3,
   "outputs": []
  },
  {
   "cell_type": "code",
   "source": [
    "#чтения файла с урлами и объединение этого с id-шниками\n",
    "prev_df = data\n",
    "df = pd.merge(df, prev_df, on='user_id')"
   ],
   "metadata": {
    "id": "UpRvUAFpLDf9"
   },
   "execution_count": 4,
   "outputs": []
  },
  {
   "cell_type": "code",
   "source": [
    "#one_hot_url_df = pd.get_dummies(df['url_host'])\n",
    "#Жрет много памяти, очень много"
   ],
   "metadata": {
    "id": "TF3iUXfQLESw"
   },
   "execution_count": null,
   "outputs": []
  },
  {
   "cell_type": "code",
   "execution_count": 6,
   "outputs": [
    {
     "data": {
      "text/plain": "           age is_male  user_id            region_name city_name  \\\n0          2.0       1   350459  Удмуртская Республика    Ижевск   \n1          2.0       1   350459  Удмуртская Республика    Ижевск   \n2          2.0       1   350459  Удмуртская Республика    Ижевск   \n3          2.0       1   350459  Удмуртская Республика    Ижевск   \n4          2.0       1   350459  Удмуртская Республика    Ижевск   \n...        ...     ...      ...                    ...       ...   \n210730727  6.0       1   103148   Белгородская область    Губкин   \n210730728  6.0       1   103148        Курская область     Курск   \n210730729  6.0       1   103148        Курская область     Курск   \n210730730  6.0       1   103148        Курская область     Курск   \n210730731  6.0       1   103148        Курская область     Курск   \n\n          cpe_manufacturer_name cpe_model_name                     url_host  \\\n0                        Xiaomi   Redmi Note 7          sun9-29.userapi.com   \n1                        Xiaomi   Redmi Note 7                id.tinkoff.ru   \n2                        Xiaomi   Redmi Note 7                id.tinkoff.ru   \n3                        Xiaomi   Redmi Note 7                       vk.com   \n4                        Xiaomi   Redmi Note 7                       vk.com   \n...                         ...            ...                          ...   \n210730727               Samsung     Galaxy M21  googleads.g.doubleclick.net   \n210730728               Samsung     Galaxy M21                    yandex.ru   \n210730729               Samsung     Galaxy M21                  i.ytimg.com   \n210730730               Samsung     Galaxy M21                  news.ngs.ru   \n210730731               Samsung     Galaxy M21                       vk.com   \n\n          cpe_type_cd cpe_model_os_type    price        date part_of_day  \\\n0          smartphone           Android  14948.0  2021-06-24     morning   \n1          smartphone           Android  14948.0  2021-07-14     morning   \n2          smartphone           Android  14948.0  2021-07-13     evening   \n3          smartphone           Android  14948.0  2021-06-23         day   \n4          smartphone           Android  14948.0  2021-07-11         day   \n...               ...               ...      ...         ...         ...   \n210730727  smartphone           Android  14990.0  2021-06-28         day   \n210730728  smartphone           Android  14990.0  2021-07-08     morning   \n210730729  smartphone           Android  14990.0  2021-07-13         day   \n210730730  smartphone           Android  14990.0  2021-07-06         day   \n210730731  smartphone           Android  14990.0  2021-07-20     morning   \n\n           request_cnt  \n0                    1  \n1                    1  \n2                    1  \n3                    1  \n4                    1  \n...                ...  \n210730727            1  \n210730728            2  \n210730729            1  \n210730730            1  \n210730731            3  \n\n[210730732 rows x 14 columns]",
      "text/html": "<div>\n<style scoped>\n    .dataframe tbody tr th:only-of-type {\n        vertical-align: middle;\n    }\n\n    .dataframe tbody tr th {\n        vertical-align: top;\n    }\n\n    .dataframe thead th {\n        text-align: right;\n    }\n</style>\n<table border=\"1\" class=\"dataframe\">\n  <thead>\n    <tr style=\"text-align: right;\">\n      <th></th>\n      <th>age</th>\n      <th>is_male</th>\n      <th>user_id</th>\n      <th>region_name</th>\n      <th>city_name</th>\n      <th>cpe_manufacturer_name</th>\n      <th>cpe_model_name</th>\n      <th>url_host</th>\n      <th>cpe_type_cd</th>\n      <th>cpe_model_os_type</th>\n      <th>price</th>\n      <th>date</th>\n      <th>part_of_day</th>\n      <th>request_cnt</th>\n    </tr>\n  </thead>\n  <tbody>\n    <tr>\n      <th>0</th>\n      <td>2.0</td>\n      <td>1</td>\n      <td>350459</td>\n      <td>Удмуртская Республика</td>\n      <td>Ижевск</td>\n      <td>Xiaomi</td>\n      <td>Redmi Note 7</td>\n      <td>sun9-29.userapi.com</td>\n      <td>smartphone</td>\n      <td>Android</td>\n      <td>14948.0</td>\n      <td>2021-06-24</td>\n      <td>morning</td>\n      <td>1</td>\n    </tr>\n    <tr>\n      <th>1</th>\n      <td>2.0</td>\n      <td>1</td>\n      <td>350459</td>\n      <td>Удмуртская Республика</td>\n      <td>Ижевск</td>\n      <td>Xiaomi</td>\n      <td>Redmi Note 7</td>\n      <td>id.tinkoff.ru</td>\n      <td>smartphone</td>\n      <td>Android</td>\n      <td>14948.0</td>\n      <td>2021-07-14</td>\n      <td>morning</td>\n      <td>1</td>\n    </tr>\n    <tr>\n      <th>2</th>\n      <td>2.0</td>\n      <td>1</td>\n      <td>350459</td>\n      <td>Удмуртская Республика</td>\n      <td>Ижевск</td>\n      <td>Xiaomi</td>\n      <td>Redmi Note 7</td>\n      <td>id.tinkoff.ru</td>\n      <td>smartphone</td>\n      <td>Android</td>\n      <td>14948.0</td>\n      <td>2021-07-13</td>\n      <td>evening</td>\n      <td>1</td>\n    </tr>\n    <tr>\n      <th>3</th>\n      <td>2.0</td>\n      <td>1</td>\n      <td>350459</td>\n      <td>Удмуртская Республика</td>\n      <td>Ижевск</td>\n      <td>Xiaomi</td>\n      <td>Redmi Note 7</td>\n      <td>vk.com</td>\n      <td>smartphone</td>\n      <td>Android</td>\n      <td>14948.0</td>\n      <td>2021-06-23</td>\n      <td>day</td>\n      <td>1</td>\n    </tr>\n    <tr>\n      <th>4</th>\n      <td>2.0</td>\n      <td>1</td>\n      <td>350459</td>\n      <td>Удмуртская Республика</td>\n      <td>Ижевск</td>\n      <td>Xiaomi</td>\n      <td>Redmi Note 7</td>\n      <td>vk.com</td>\n      <td>smartphone</td>\n      <td>Android</td>\n      <td>14948.0</td>\n      <td>2021-07-11</td>\n      <td>day</td>\n      <td>1</td>\n    </tr>\n    <tr>\n      <th>...</th>\n      <td>...</td>\n      <td>...</td>\n      <td>...</td>\n      <td>...</td>\n      <td>...</td>\n      <td>...</td>\n      <td>...</td>\n      <td>...</td>\n      <td>...</td>\n      <td>...</td>\n      <td>...</td>\n      <td>...</td>\n      <td>...</td>\n      <td>...</td>\n    </tr>\n    <tr>\n      <th>210730727</th>\n      <td>6.0</td>\n      <td>1</td>\n      <td>103148</td>\n      <td>Белгородская область</td>\n      <td>Губкин</td>\n      <td>Samsung</td>\n      <td>Galaxy M21</td>\n      <td>googleads.g.doubleclick.net</td>\n      <td>smartphone</td>\n      <td>Android</td>\n      <td>14990.0</td>\n      <td>2021-06-28</td>\n      <td>day</td>\n      <td>1</td>\n    </tr>\n    <tr>\n      <th>210730728</th>\n      <td>6.0</td>\n      <td>1</td>\n      <td>103148</td>\n      <td>Курская область</td>\n      <td>Курск</td>\n      <td>Samsung</td>\n      <td>Galaxy M21</td>\n      <td>yandex.ru</td>\n      <td>smartphone</td>\n      <td>Android</td>\n      <td>14990.0</td>\n      <td>2021-07-08</td>\n      <td>morning</td>\n      <td>2</td>\n    </tr>\n    <tr>\n      <th>210730729</th>\n      <td>6.0</td>\n      <td>1</td>\n      <td>103148</td>\n      <td>Курская область</td>\n      <td>Курск</td>\n      <td>Samsung</td>\n      <td>Galaxy M21</td>\n      <td>i.ytimg.com</td>\n      <td>smartphone</td>\n      <td>Android</td>\n      <td>14990.0</td>\n      <td>2021-07-13</td>\n      <td>day</td>\n      <td>1</td>\n    </tr>\n    <tr>\n      <th>210730730</th>\n      <td>6.0</td>\n      <td>1</td>\n      <td>103148</td>\n      <td>Курская область</td>\n      <td>Курск</td>\n      <td>Samsung</td>\n      <td>Galaxy M21</td>\n      <td>news.ngs.ru</td>\n      <td>smartphone</td>\n      <td>Android</td>\n      <td>14990.0</td>\n      <td>2021-07-06</td>\n      <td>day</td>\n      <td>1</td>\n    </tr>\n    <tr>\n      <th>210730731</th>\n      <td>6.0</td>\n      <td>1</td>\n      <td>103148</td>\n      <td>Курская область</td>\n      <td>Курск</td>\n      <td>Samsung</td>\n      <td>Galaxy M21</td>\n      <td>vk.com</td>\n      <td>smartphone</td>\n      <td>Android</td>\n      <td>14990.0</td>\n      <td>2021-07-20</td>\n      <td>morning</td>\n      <td>3</td>\n    </tr>\n  </tbody>\n</table>\n<p>210730732 rows × 14 columns</p>\n</div>"
     },
     "execution_count": 6,
     "metadata": {},
     "output_type": "execute_result"
    }
   ],
   "source": [
    "df"
   ],
   "metadata": {
    "collapsed": false
   }
  },
  {
   "cell_type": "code",
   "source": [
    "# Подсчет шансов\n",
    "age_list= list(range(1,7))\n",
    "url_list = df['url_host'].unique()\n",
    "\n",
    "\n",
    "url_stat_dict = {\n",
    "    'url':[],\n",
    "    'total_count':[],\n",
    "    'fem': [],\n",
    "    'male': []\n",
    "\n",
    "}\n",
    "for age in age_list:\n",
    "    url_stat_dict['age_class_№_' + str(age)] = []\n",
    "\n",
    "for key in url_list:\n",
    "    url_stat_dict['url'].append(key)\n",
    "    total_count = df[df['url_host'] == key].count()\n",
    "    url_stat_dict['total_count'].append(total_count)\n",
    "    url_stat_dict['fem'].append(df[df['url_host'] == key][df['is_male'] == 0].count()/total_count )\n",
    "    url_stat_dict['male'].append(df[df['url_host'] == key][df['is_male'] == 1].count() / total_count)\n",
    "    for age in age_list:\n",
    "        url_stat_dict['age_class_№_' + str(age)].append(df[df['url_host'] == key][df['age'] == age].count() / total_count)\n",
    "\n",
    "stat_df = pd.DataFrame().from_dict(url_stat_dict)\n",
    "\n",
    "df = pd.merge(df, stat_df, on = 'url_host')\n",
    "\n",
    "# Добавил столбцы \n",
    "# total_count - сумарное количество записей\n",
    "# male/fem - шнас того, что этот сайт посетила мужчина/женщина\n",
    "# age_class_№_* - шнас того, что этот сайт посетила человек определенного возраста"
   ],
   "metadata": {
    "colab": {
     "base_uri": "https://localhost:8080/"
    },
    "id": "lFGY0zX1PBcG",
    "outputId": "b22d9eda-b40c-4f55-94bf-5e7f3b593105",
    "pycharm": {
     "is_executing": true
    }
   },
   "execution_count": null,
   "outputs": [
    {
     "name": "stderr",
     "output_type": "stream",
     "text": [
      "/tmp/ipykernel_15428/1214924861.py:20: UserWarning: Boolean Series key will be reindexed to match DataFrame index.\n",
      "  url_stat_dict['fem'].append(df[df['url_host'] == key][df['is_male'] == 0].count()/total_count )\n",
      "/tmp/ipykernel_15428/1214924861.py:21: UserWarning: Boolean Series key will be reindexed to match DataFrame index.\n",
      "  url_stat_dict['male'].append(df[df['url_host'] == key][df['is_male'] == 1].count() / total_count)\n",
      "/tmp/ipykernel_15428/1214924861.py:23: UserWarning: Boolean Series key will be reindexed to match DataFrame index.\n",
      "  url_stat_dict['age_class_№_' + str(age)].append(df[df['url_host'] == key][df['age'] == age].count() / total_count)\n"
     ]
    }
   ]
  },
  {
   "cell_type": "code",
   "source": [
    "# Все модели обучаются только на прогно возраста, поменять можно заменив в строке с y age на is_male\n",
    "# Линейная регрессия\n",
    "from sklearn.linear_model import LinearRegression\n",
    "\n",
    "X = df.drop([\"age\", 'is_male'], axis=1)\n",
    "y = df[\"age\"]\n",
    "\n",
    "X_train, X_test, y_train, y_test = train_test_split(X, y, test_size=0.1, random_state=42)\n",
    "\n",
    "reg = LinearRegression()\n",
    "param_grid = {'fit_intercept': [True, False], 'normalize': [True, False]}\n",
    "grid_search = GridSearchCV(reg, param_grid, cv=5)\n",
    "grid_search.fit(X_train, y_train)\n",
    "\n",
    "test_score = grid_search.score(X_test, y_test)\n",
    "print(\"Test Score:\", test_score)\n",
    "\n",
    "best_params = grid_search.best_params_\n",
    "print(\"Best Params:\", best_params)"
   ],
   "metadata": {
    "id": "UzpYG-VgcsOL",
    "pycharm": {
     "is_executing": true
    }
   },
   "execution_count": null,
   "outputs": []
  },
  {
   "cell_type": "code",
   "source": [
    "# Гребневая регрессия\n",
    "from sklearn.linear_model import Ridge\n",
    "\n",
    "reg = Ridge()\n",
    "\n",
    "param_grid = {'alpha': [0.1, 1, 10, 100],\n",
    "              'fit_intercept': [True, False],\n",
    "              'normalize': [True, False]}\n",
    "\n",
    "grid_search = GridSearchCV(reg, param_grid, cv=5)\n",
    "grid_search.fit(X_train, y_train)\n",
    "\n",
    "print(\"Best parameters:\", grid_search.best_params_)\n",
    "print(\"Test score:\", grid_search.score(X_test, y_test))"
   ],
   "metadata": {
    "id": "X14p9J8WlPdP",
    "pycharm": {
     "is_executing": true
    }
   },
   "execution_count": null,
   "outputs": []
  },
  {
   "cell_type": "code",
   "source": [
    "# Случайный лес\n",
    "from sklearn.ensemble import RandomForestRegressor\n",
    "\n",
    "reg = RandomForestRegressor()\n",
    "param_grid = {'n_estimators': [10, 50, 100, 200], 'max_depth': [None, 10, 50, 100]}\n",
    "grid_search = GridSearchCV(reg, param_grid, cv=5)\n",
    "\n",
    "grid_search.fit(X_train, y_train)\n",
    "\n",
    "test_score = grid_search.score(X_test, y_test)\n",
    "print(\"Test Score:\", test_score)\n",
    "\n",
    "best_params = grid_search.best_params_\n",
    "print(\"Best Params:\", best_params)"
   ],
   "metadata": {
    "id": "SD6SJ9wzlshV",
    "pycharm": {
     "is_executing": true
    }
   },
   "execution_count": null,
   "outputs": []
  },
  {
   "cell_type": "code",
   "source": [
    "# Опорные вектора\n",
    "from sklearn.svm import SVC\n",
    "\n",
    "svm = SVC()\n",
    "\n",
    "param_grid = {'C': [0.1, 1, 10, 100], 'gamma': [1, 0.1, 0.01, 0.001]}\n",
    "grid_search = GridSearchCV(svm, param_grid, cv=5)\n",
    "grid_search.fit(X_train, y_train)\n",
    "\n",
    "test_score = grid_search.score(X_test, y_test)\n",
    "print(\"Test Score:\", test_score)\n",
    "\n",
    "best_params = grid_search.best_params_\n",
    "print(\"Best Params:\", best_params)"
   ],
   "metadata": {
    "id": "60JY_s1dltH8",
    "pycharm": {
     "is_executing": true
    }
   },
   "execution_count": null,
   "outputs": []
  },
  {
   "cell_type": "code",
   "source": [
    "# Градиентный бустинг\n",
    "from sklearn.ensemble import GradientBoostingRegressor\n",
    "\n",
    "gbr = GradientBoostingRegressor()\n",
    "param_grid = {'n_estimators': [100, 500, 1000], 'max_depth': [1, 3, 5]}\n",
    "grid_search = GridSearchCV(gbr, param_grid, cv=5)\n",
    "grid_search.fit(X_train, y_train)\n",
    "\n",
    "test_score = grid_search.score(X_test, y_test)\n",
    "print(\"Test Score:\", test_score)\n",
    "\n",
    "best_params = grid_search.best_params_\n",
    "print(\"Best Params:\", best_params)"
   ],
   "metadata": {
    "id": "G7F8x8Ftmp5h",
    "pycharm": {
     "is_executing": true
    }
   },
   "execution_count": null,
   "outputs": []
  },
  {
   "cell_type": "code",
   "source": [
    "# KNN\n",
    "from sklearn.neighbors import KNeighborsClassifier\n",
    "\n",
    "knn = KNeighborsClassifier()\n",
    "param_grid = {'n_neighbors': [3, 5, 7, 10], 'weights': ['uniform', 'distance']}\n",
    "grid_search = GridSearchCV(knn, param_grid, cv=5)\n",
    "grid_search.fit(X_train, y_train)\n",
    "\n",
    "best_params = grid_search.best_params_\n",
    "print(\"Best Params:\", best_params)\n",
    "\n",
    "test_score = grid_search.score(X_test, y_test)\n",
    "print(\"Test Score:\", test_score)"
   ],
   "metadata": {
    "id": "ksh3HQtRoEKd",
    "pycharm": {
     "is_executing": true
    }
   },
   "execution_count": null,
   "outputs": []
  },
  {
   "cell_type": "code",
   "execution_count": null,
   "outputs": [],
   "source": [],
   "metadata": {
    "collapsed": false
   }
  }
 ]
}
